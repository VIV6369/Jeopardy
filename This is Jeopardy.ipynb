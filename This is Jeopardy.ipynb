{
 "cells": [
  {
   "cell_type": "markdown",
   "metadata": {},
   "source": [
    "# This is Jeopardy!"
   ]
  },
  {
   "cell_type": "markdown",
   "metadata": {},
   "source": [
    "#### Overview"
   ]
  },
  {
   "cell_type": "markdown",
   "metadata": {},
   "source": [
    "This project is slightly different than others you have encountered thus far. Instead of a step-by-step tutorial, this project contains a series of open-ended requirements which describe the project you'll be building. There are many possible ways to correctly fulfill all of these requirements, and you should expect to use the internet, Codecademy, and/or other resources when you encounter a problem that you cannot easily solve."
   ]
  },
  {
   "cell_type": "markdown",
   "metadata": {},
   "source": [
    "#### Project Goals"
   ]
  },
  {
   "cell_type": "markdown",
   "metadata": {},
   "source": [
    "You will work to write several functions that investigate a dataset of _Jeopardy!_ questions and answers. Filter the dataset for topics that you're interested in, compute the average difficulty of those questions, and train to become the next Jeopardy champion!"
   ]
  },
  {
   "cell_type": "markdown",
   "metadata": {},
   "source": [
    "## Project Requirements"
   ]
  },
  {
   "cell_type": "markdown",
   "metadata": {},
   "source": [
    "1. We've provided a csv file containing data about the game show _Jeopardy!_ in a file named `jeopardy.csv`. Load the data into a DataFrame and investigate its contents. Try to print out specific columns.\n",
    "\n",
    "   Note that in order to make this project as \"real-world\" as possible, we haven't modified the data at all - we're giving it to you exactly how we found it. As a result, this data isn't as \"clean\" as the datasets you normally find on Codecademy. More specifically, there's something odd about the column names. After you figure out the problem with the column names, you may want to rename them to make your life easier for the rest of the project."
   ]
  },
  {
   "cell_type": "code",
   "execution_count": 1,
   "metadata": {},
   "outputs": [
    {
     "name": "stdout",
     "output_type": "stream",
     "text": [
      "0         For the last 8 years of his life, Galileo was ...\n",
      "1         No. 2: 1912 Olympian; football star at Carlisl...\n",
      "2         The city of Yuma in this state has a record av...\n",
      "3         In 1963, live on \"The Art Linkletter Show\", th...\n",
      "4         Signer of the Dec. of Indep., framer of the Co...\n",
      "                                ...                        \n",
      "216915    In his teens he worked in an assistant D.A.'s ...\n",
      "216916    Oscar Wilde called this 4-letter word \"the cur...\n",
      "216917      Guyanese capital named for a Hanoverian monarch\n",
      "216918    A naughty 18th c. novel originally titled \"Mem...\n",
      "216919    If this riddling Belgian surrealist painter, b...\n",
      "Name: question, Length: 216920, dtype: object\n"
     ]
    }
   ],
   "source": [
    "import pandas as pd\n",
    "df = pd.read_csv('jeopardy.csv')\n",
    "df.columns = ['show_number', 'air_date', 'round_name', 'category', 'value', 'question',  'answer']\n",
    "print(df.question.head(-10))"
   ]
  },
  {
   "cell_type": "markdown",
   "metadata": {},
   "source": [
    "2. Write a function that filters the dataset for questions that contains all of the words in a list of words. For example, when the list `[\"King\", \"England\"]` was passed to our function, the function returned a DataFrame of 49 rows. Every row had the strings `\"King\"` and `\"England\"` somewhere in its `\" Question\"`.\n",
    "\n",
    "   Test your function by printing out the column containing the question of each row of the dataset."
   ]
  },
  {
   "cell_type": "code",
   "execution_count": 2,
   "metadata": {},
   "outputs": [
    {
     "name": "stdout",
     "output_type": "stream",
     "text": [
      "4953      Both England's King George V & FDR put their s...\n",
      "14912     This country's King Louis IV was nicknamed \"Lo...\n",
      "21511     this man and his son ruled England following t...\n",
      "23810     William the Conqueror was crowned King of Engl...\n",
      "27555     This member of the Medici family was the mothe...\n",
      "33294     (Sarah of the Clue Crew delivers the clue from...\n",
      "41148     This French king recognized William of Orange ...\n",
      "41357     England's King Henry VIII had 3 wives named Ca...\n",
      "43122                The father of England's King Edward VI\n",
      "47814     This steak sauce was created for King George I...\n",
      "49994     Elizabeth I's half-brother, he reigned before ...\n",
      "51115     (<a href=\"http://www.j-archive.com/media/2000-...\n",
      "51565     He wrote several anthems, including \"The King ...\n",
      "56600     This city known for its 24-hour auto race was ...\n",
      "57516     Famous (& rather insulting) adjective for Engl...\n",
      "58949     He became King of England in 1399 after forcin...\n",
      "71808     Number of the William who was England's \"Sailo...\n",
      "74235     Barons & churchmen drew up this 1215 document ...\n",
      "77195     He became King of England on June 26, 1483; ju...\n",
      "79457     On Christmas Day 1066, he was crowned King of ...\n",
      "80113     England's King Charles II was known by this \"j...\n",
      "84639     He went from second banana on \"Roseanne\" to to...\n",
      "86412     This country's King Olaf V was born in England...\n",
      "89710     This 11th Century King of England also ruled D...\n",
      "111926    It begins \"John, by the grace of God, King of ...\n",
      "118809    In French this King of England is called Guill...\n",
      "123299    If you want to be crowned King of England, thi...\n",
      "123671                       King Henry VII of England dies\n",
      "125822    Famous nickname of the eldest son of England's...\n",
      "127484    Ethelred the Unready managed to lose most of E...\n",
      "127758    This state was named for the King of England w...\n",
      "129106    King Edward I of England, who fought William W...\n",
      "130208    This \"Sun King\" sniffed, \"England is a little ...\n",
      "137818    The last King William to rule England had this...\n",
      "143434    This Flemish artist painted a unique triple po...\n",
      "150880    During Stanley Baldwin's term as P.M., this Ki...\n",
      "165110    The 1st commoner to rule England, he became lo...\n",
      "165197    The \"Angel of Hadley\" is said to have saved a ...\n",
      "170007    In the 1697 Treaty of Rijswijk, the French rec...\n",
      "174055    This conqueror was crowned King of England on ...\n",
      "175259    His short reign as King of England fell in in ...\n",
      "183462    A capital in the West Indies is named for this...\n",
      "186239    He was King of England from 1189 to 1199 but s...\n",
      "187651    This Bahamian capital took its name from the f...\n",
      "191579    England's King Harold II lost the all-importan...\n",
      "192265    (<a href=\"http://www.j-archive.com/media/2012-...\n",
      "192966                   England's King _____ _____ R. Luce\n",
      "194516    The \"Monty Python\" member who played King Arth...\n",
      "200369    8th C. King Offa built a 170-mile north-south ...\n",
      "Name: question, dtype: object\n",
      "49\n"
     ]
    }
   ],
   "source": [
    "def lookup(data, lst):\n",
    "    search = lambda x: all(word in x for word in lst)\n",
    "    return data.loc[data[\"question\"].apply(search)]\n",
    "\n",
    "# Testing the function\n",
    "filtered = lookup(df, [\"King\", \"England\"])\n",
    "print(filtered[\"question\"])\n",
    "# Checking that there are 49 rows\n",
    "print(len(filtered))"
   ]
  },
  {
   "cell_type": "markdown",
   "metadata": {},
   "source": [
    "3. Test your original function with a few different sets of words to try to find some ways your function breaks. Edit your function so it is more robust.\n",
    "\n",
    "   For example, think about capitalization. We probably want to find questions that contain the word `\"King\"` or `\"king\"`.\n",
    "   \n",
    "   You may also want to check to make sure you don't find rows that contain substrings of your given words. For example, our function found a question that didn't contain the word `\"king\"`, however it did contain the word `\"viking\"` &mdash; it found the `\"king\"` inside `\"viking\"`. Note that this also comes with some drawbacks &mdash; you would no longer find questions that contained words like `\"England's\"`."
   ]
  },
  {
   "cell_type": "code",
   "execution_count": 3,
   "metadata": {},
   "outputs": [
    {
     "name": "stdout",
     "output_type": "stream",
     "text": [
      "4953      Both England's King George V & FDR put their s...\n",
      "6337      In retaliation for Viking raids, this \"Unready...\n",
      "9191      This king of England beat the odds to trounce ...\n",
      "11710     This Scotsman, the first Stuart king of Englan...\n",
      "13454     It's the number that followed the last king of...\n",
      "                                ...                        \n",
      "208295    In 1066 this great-great grandson of Rollo mad...\n",
      "208742    Dutch-born king who ruled England jointly with...\n",
      "213870    In 1781 William Herschel discovered Uranus & i...\n",
      "216021    His nickname was \"Bertie\", but he used this na...\n",
      "216789    This kingdom of England grew from 2 settlement...\n",
      "Name: question, Length: 152, dtype: object\n"
     ]
    }
   ],
   "source": [
    "# Filtering a dataset by a list of words\n",
    "def lookup(data, lst):\n",
    "    # Lowercases all words in the list of words as well as the questions. Returns true if all of the words in the list appear in the question.\n",
    "    search = lambda x: all(word.lower() in x.lower() for word in lst)\n",
    "    # Applies the lambda function to the Question column and returns the rows where the function returned True\n",
    "    return data.loc[data[\"question\"].apply(search)]\n",
    "  \n",
    "#Testing the function\n",
    "filtered = lookup(df, [\"King\", \"England\"])\n",
    "print(filtered[\"question\"])"
   ]
  },
  {
   "cell_type": "markdown",
   "metadata": {},
   "source": [
    "4. We may want to eventually compute aggregate statistics, like `.mean()` on the `\" Value\"` column. But right now, the values in that column are strings. Convert the`\" Value\"` column to floats. If you'd like to, you can create a new column with float values.\n",
    "\n",
    "   Now that you can filter the dataset of question, use your new column that contains the float values of each question to find the \"difficulty\" of certain topics. For example, what is the average value of questions that contain the word `\"King\"`?\n",
    "   \n",
    "   Make sure to use the dataset that contains the float values as the dataset you use in your filtering function."
   ]
  },
  {
   "cell_type": "code",
   "execution_count": 4,
   "metadata": {},
   "outputs": [
    {
     "name": "stdout",
     "output_type": "stream",
     "text": [
      "The average difficulty of question containing word King is 786$\n"
     ]
    }
   ],
   "source": [
    "# Converting \"value\" row from string to float and adding it as new row\n",
    "df['value_float'] = df.value.apply(lambda x: None if x == \"None\" else float(''.join((x.split('$')[-1]).split(','))))\n",
    "# Appling filtering function onto dataframe with float values\n",
    "filtered1 = lookup(df, [\"King\"])\n",
    "print(\"The average difficulty of question containing word King is \" + str(round(filtered1.value_float.mean())) + \"$\")"
   ]
  },
  {
   "cell_type": "markdown",
   "metadata": {},
   "source": [
    "5. Write a function that returns the count of unique answers to all of the questions in a dataset. For example, after filtering the entire dataset to only questions containing the word `\"King\"`, we could then find all of the unique answers to those questions. The answer \"Henry VIII\" appeared 55 times and was the most common answer."
   ]
  },
  {
   "cell_type": "code",
   "execution_count": 5,
   "metadata": {},
   "outputs": [
    {
     "name": "stdout",
     "output_type": "stream",
     "text": [
      "Most common answer is Henry VIII\n",
      "It appeared 55 times\n",
      "[('England', 8), ('Ronald Reagan', 8), ('Lyndon Johnson', 3), ('Alfred Lord Tennyson', 5), ('a molly', 2), ('Louisiana', 4), ('Hungary', 7), ('Poland', 11), ('Hank Aaron', 3), ('Tristan', 4), ('Solomon', 35), ('Nebuchadnezzar', 13), ('Dublin', 2), ('Henry VIII', 55), ('King Hussein', 11), ('a soliloquy', 3), ('Scotland', 17), ('matzah', 2), ('Beijing', 4), ('Napoleon', 8), ('Scout', 3), ('Elijah', 2), ('Agamemnon', 4), ('Edward', 8), ('Swedish', 2), ('Oedipus', 8), ('Oberon', 8), ('Richard III', 33), ('Queen of Sheba', 3), ('Merlin', 6), ('Avalon', 4), ('Louis XIV', 31), ('James Joyce', 3), ('Jackie Robinson', 2), ('a brush', 2), ('Troy', 2), ('The Matrix', 2), ('Albania', 4), ('pencils', 2), ('Cat on a Hot Tin Roof', 2), ('Croesus', 5), ('tobacco', 3), ('\"Mandy\"', 3), ('Washington, D.C.', 2), ('Wessex', 4), ('Voltaire', 4), ('Egypt', 10), ('Portugal', 16), ('Romania', 8), ('Sheba', 3), ('Gilgamesh', 2), ('canola', 2), ('Old King Cole', 2), ('Manuel Noriega', 2), ('Bhutan', 6), ('Edward the Confessor', 3), ('Edward VI', 5), ('2000', 2), ('Islam', 3), ('Goneril', 2), ('Wenceslas', 9), ('leeches', 4), ('Memphis', 14), ('Cotton', 5), ('Pete Rose', 5), ('cotton', 4), ('Dr. Seuss', 2), ('Hammurabi', 11), ('nylon', 3), ('Abraham Lincoln', 4), ('Italy', 13), ('Greece', 8), ('Alexander the Great', 13), ('Norway', 27), ('Robert Penn Warren', 6), ('Charles I', 19), ('The Larry Sanders Show', 2), ('Hawaii', 9), ('Oslo', 5), ('Ethelred', 3), ('Morocco', 13), ('Honolulu', 2), ('Thugmuffin C', 2), ('Denmark', 16), ('the Washington Post', 2), ('checkers', 3), ('Texas', 2), ('Charles', 6), ('Henry VII', 6), ('King Arthur', 13), ('Alfred the Great', 7), ('Frederick the Great', 12), ('Scott Joplin', 4), ('Harry Houdini', 5), ('Midas', 6), ('Absalom', 3), ('Macbeth', 12), ('Sweden', 28), ('The Last of the Mohicans', 2), ('Southern Christian Leadership Conference', 4), ('Westminster Abbey', 5), ('Henry V', 8), ('George II', 4), ('Benny Goodman', 10), ('King Fahd', 2), ('John Keats', 2), ('Gloucester', 2), ('David', 30), ('Saul', 16), ('Dom Perignon', 3), ('Planet of the Apes', 3), ('Winchester', 2), ('Charles II', 9), ('Carrot Top', 2), ('Wagner', 2), ('Ebenezer Baptist Church', 4), ('Tonga', 18), ('sodium', 3), ('Ohio', 3), ('Gerald Ford', 3), ('Cybill Shepherd', 2), ('France', 17), ('Timex', 2), ('Jordan', 11), ('Naples', 2), ('Esther', 2), ('smoking', 2), ('James I', 13), ('Columbia', 4), ('Mark Antony', 2), ('Harper Lee', 3), ('Turandot', 2), ('Pinocchio', 2), ('Babar', 4), ('Victor Emmanuel', 5), ('\"Annie Get Your Gun\"', 2), ('Dylan Thomas', 4), ('Pink', 2), ('Charlemagne', 17), ('pepper', 2), ('Belgium', 19), ('4', 3), ('Medea', 2), ('Long Island', 2), ('Jericho', 2), ('Excalibur', 5), ('The Pirates of Penzance', 3), ('Cremona', 2), ('T.S. Eliot', 2), ('James Beard', 3), ('King Farouk', 4), ('Katrina and the Waves', 2), ('Aeschylus', 2), ('Assyria', 3), ('Xerxes', 7), ('Elvis Presley', 11), ('Guinevere', 3), ('Tennyson', 2), ('London', 9), ('King Kamehameha', 10), ('the Titanic', 2), ('King David', 7), ('Georgia', 4), ('Hercules', 5), ('manslaughter', 2), ('Beauty and the Beast', 2), ('Beowulf', 6), ('Japan', 4), ('India', 4), ('Lawrence of Arabia', 2), ('Yul Brynner', 6), ('Tasmania', 3), ('Juan Carlos', 10), ('Kamehameha', 5), ('King John', 9), ('the Tiber', 2), ('Teddy Roosevelt', 3), ('Jessica Lange', 2), ('Cabbages', 2), ('Bisquick', 2), ('Isolde', 2), ('Monkeys', 2), ('Jane Fonda', 2), ('Louis XVII', 2), ('Richard', 5), ('the giraffe', 2), ('the Philippines', 3), ('the Bourbons', 2), ('Wales', 6), ('Julia Child', 5), ('Theodore White', 3), ('Bavaria', 6), ('Louis', 6), ('Melanie Griffith', 2), ('the Franks', 2), ('Babylon', 5), ('Budweiser', 5), ('pianos', 2), ('Richard the Lionhearted', 11), ('Taco Bell', 3), ('ambulance', 2), ('The Jungle Book', 3), ('Zeus', 2), ('Prague', 6), ('Libya', 3), ('Richard I', 4), ('(Randy) Moss', 2), ('Alfred', 4), ('Baby Doll', 2), ('the Mausoleum', 2), ('Sleeping Beauty', 2), ('Saudi Arabia', 16), ('George VI', 5), ('White', 3), ('Henry II', 4), ('Mr. Goodbar', 4), ('All Quiet on the Western Front', 2), ('San Francisco', 4), ('Jane Eyre', 2), ('Paul Revere', 3), ('Lord North', 3), ('pinochle', 2), ('Louis XVI', 15), ('John Tyler', 3), ('Ferdinand', 7), ('corduroy', 3), ('Iran', 5), ('frog', 2), ('Louis XV', 6), ('the Ark of the Covenant', 3), ('Oliver Cromwell', 6), ('El Greco', 2), ('Qantas', 2), ('Castille', 4), ('Cane', 2), ('Duncan', 5), ('Morgan le Fay', 3), ('Apocalypse Now', 2), ('elephants', 3), ('Scheherazade', 2), ('Herod the Great', 5), ('Catfish', 3), ('Anne Boleyn', 4), ('Jane Seymour', 2), ('the Appalachian Trail', 2), ('1066', 2), ('Cordelia', 6), ('Africa', 7), ('Broadway', 2), ('Birmingham', 2), ('scrod', 2), ('the one-eyed man', 2), ('Persia', 3), ('The Beastie Boys', 2), ('King Lear', 15), ('hats', 2), ('Priam', 4), ('Clint Eastwood', 2), ('Gandhi', 4), ('Eleanor of Aquitaine', 3), ('Istanbul', 2), ('Robert Browning', 2), ('Franks', 2), ('tarragon', 2), ('Edward VIII', 5), ('The Shawshank Redemption', 3), ('\"Venus\"', 2), ('Dances With Wolves', 2), ('Queen Victoria', 2), ('King Faisal', 4), ('the Holy Roman Empire', 2), ('Richard the Lion-Hearted', 2), ('Peter Jackson', 5), ('Scuttlebutt', 2), ('bacteria', 2), ('Harold II', 4), ('sweat glands', 2), ('Cambridge', 3), ('Sousaphone', 2), ('Alice Adams', 3), ('Ferdinand & Isabella', 3), ('ham', 2), ('Henry Stanley', 2), ('Seattle', 2), ('(Johann) Strauss', 2), ('Tim Robbins', 3), ('Herod', 7), ('Jerusalem', 10), ('Henry', 3), ('Pericles', 2), ('the Nile', 2), ('Colorado', 3), ('Elizabeth I', 2), ('Robert the Bruce', 5), ('Ireland', 5), ('Tito Puente', 2), ('Silver', 2), ('James Fenimore Cooper', 6), ('horses', 4), ('Thebes', 5), ('Henry VI', 4), ('Venice', 5), ('Stephen King', 2), ('Camelot', 7), ('Darius the Great', 3), ('Atlanta', 3), ('Edward VII', 6), ('Paul Simon', 2), ('Marlin Perkins', 4), ('Israel', 2), ('Judge Judy', 3), ('Carly Simon', 2), ('George', 5), ('George IV', 4), ('Richard I (Richard the Lionhearted)', 2), ('Francis', 2), ('Rosencrantz & Guildenstern', 2), ('Hamlet', 11), ('Harold', 3), ('Cupid', 2), ('George III', 18), ('Clark Gable', 4), ('Fluoride', 2), ('Roger Miller', 4), ('Thailand', 14), ('the Southern Christian Leadership Conference', 2), ('Babe Ruth', 2), ('It', 3), ('Lincoln Memorial', 2), ('Mahatma Gandhi', 2), ('Rice Krispies', 2), ('Mussolini', 2), ('the Nobel Peace Prize', 4), ('apples', 2), ('El Cid', 2), ('World War I', 3), ('Moliere', 2), ('cooper', 2), ('Norman Vincent Peale', 5), ('Yellowstone National Park', 2), ('the Holy Grail', 2), ('milk', 2), ('John Philip Sousa', 4), ('Yertle the Turtle', 2), ('the Queen of Sheba', 2), ('gin', 2), ('China', 3), ('Bohemia', 2), ('Richard II', 7), ('\"Richard III\"', 2), ('Constantine', 2), ('Aida', 2), ('Sardinia', 4), (\"McDonald's\", 2), ('Tiger Lily', 2), ('Utah', 3), ('the Whigs', 3), ('California', 4), ('fingerprints', 2), ('Greenland', 2), ('Bob Dylan', 2), ('Krakow', 2), ('Sean Connery', 2), ('Thurgood Marshall', 2), ('Caligula', 2), ('James Buchanan', 3), ('Aladdin', 2), ('Wayne Gretzky', 6), ('Mars', 6), ('Benito Mussolini', 3), ('Catherine Parr', 2), ('Susan Sarandon', 3), ('Berlin', 2), ('poaching', 2), ('U2', 3), ('60 Minutes', 2), ('Rosa Parks', 2), ('Cambodia', 6), ('Annabel Lee', 3), ('Prince Edward Island', 3), ('Madeleine Albright', 2), ('Bryan Adams', 2), ('King James I', 2), ('Antonio Banderas', 2), ('Merle Haggard', 2), ('Aristotle', 2), ('Los Alamos', 2), ('The Shining', 2), ('horse', 2), ('Georgian', 2), ('Cats', 2), ('a roller coaster', 4), ('Pike', 2), ('Pillsbury', 2), ('Northwest Passage', 2), ('Julie Taymor', 2), ('Yorick', 2), ('tongs', 2), ('Richard Petty', 2), ('the Federal Reserve', 2), ('Captain Morgan', 2), ('Brett Favre', 2), ('Mary, Queen of Scots', 2), ('Tutankhamun', 3), ('Huey Long', 6), ('King Tut', 8), ('Pablo Picasso', 3), ('Steinway', 2), ('Juneau, Alaska', 2), ('George Wallace', 2), ('Canada', 4), ('Beer', 3), ('Malcolm X', 3), ('Philip II of Spain', 2), ('Parkinson', 2), ('Rachael Ray', 3), ('Monty Python and the Holy Grail', 3), ('the Aztecs', 2), ('carbon dioxide', 5), ('The Munsters', 3), ('Toyota', 3), ('Howard Carter', 2), ('dentistry', 2), ('King Philip', 3), ('the Crusades', 3), ('Bear', 2), ('Jim Thorpe', 2), ('1968', 2), ('Iceland', 5), ('Nepal', 7), ('Frederick', 2), ('Beethoven', 2), ('awkward', 2), ('Ludwig II', 2), ('Jonathan', 2), ('Helen', 2), ('Fish', 2), ('chlorine', 2), ('Alabama', 2), ('Narnia', 2), ('Anna', 4), ('Zenda', 3), ('Ahab', 2), ('Philip of Macedon', 2), ('eyebrows', 2), ('Cymbeline', 3), ('Calamity Jane', 2), ('Huckleberry Finn', 2), ('Thor', 3), ('Magna Carta', 6), ('Sicily', 6), ('hose', 2), ('The Green Mile', 3), ('Hagar the Horrible', 3), ('Spain', 15), ('Prussia', 3), ('Carl Sagan', 2), ('Catherine the Great', 3), ('Ernest Hemingway', 2), ('Charles Martel', 2), ('\"The Iliad\"', 2), ('chocolate', 3), ('camel', 2), ('Firestarter', 3), ('Carrie', 6), ('Michelangelo', 3), ('Pyrrhus', 2), ('John Steinbeck', 3), ('George I', 5), ('York', 2), ('downtown', 2), ('Minnesota', 2), ('Arthur Miller', 2), ('a tankard', 2), ('Xerox', 2), ('Attila', 2), ('Darius', 2), ('Woodrow Wilson', 2), ('Judah', 5), ('\"The Shining\"', 2), ('the Tyrannosaurus rex', 2), ('Michael Jackson', 3), ('Oscar Hammerstein', 3), ('William the Conqueror', 8), ('Gold', 3), ('Jamestown', 2), ('Bubble Wrap', 2), ('Bangkok', 8), ('Godzilla', 2), ('Stanford', 2), ('David Byrne', 4), ('soccer', 3), ('Tina Turner', 2), ('a tumbler', 2), ('Facebook', 2), ('Cleopatra', 2), ('Mecca', 2), ('Queen Elizabeth I', 3), ('aging', 2), ('Haiti', 2), ('Vulcan', 4), ('Davy Crockett', 7), ('Don Quixote', 2), ('mead', 2), ('Normandy', 2), ('St. Peter', 2), ('Australia', 4), ('phylum', 4), ('fungi', 2), ('El Dorado', 2), ('Bruce Springsteen', 2), ('a sword', 2), ('A Tale of Two Cities', 2), ('\"Louie Louie\"', 3), ('Cinderella', 2), ('The Nutcracker', 4), ('Christine', 2), ('focaccia', 2), ('Nolan Ryan', 5), ('Shoes', 2), ('Lady Macbeth', 2), ('Dairy Queen', 2), ('Misery', 3), ('Wells Fargo', 2), ('Adelaide', 3), ('Christian', 2), ('Albert', 2), ('Mata Hari', 2), ('Anne Rice', 3), ('Fantasia', 2), ('Cyprus', 2), ('Frank Zappa', 2), ('Herod (the Great)', 2), ('Scott', 2), ('Alice', 2), ('the Solomon Islands', 2), ('Malcolm', 3), ('Medusa', 2), ('the Bastille', 2), ('Babe', 2), ('Amis', 2), ('Sweatshops', 2), ('Archimedes', 2), ('Labor Day', 2), ('Ethiopia', 3), ('rock', 2), ('Alexandria', 2), ('Pluto', 2), ('Casablanca', 2), ('catfish', 2), ('Hong Kong', 2), ('ice', 2), ('IV', 2), ('Samuel', 4), ('Fungi', 2), ('Lorraine', 3), ('a tick', 2), ('The X-Files', 3), ('Fay Wray', 5), ('Rome', 4), ('Eli Whitney', 2), ('the Supreme Court', 2), ('Mike Fink', 3), ('Cursor', 2), ('the Northwest Passage', 2), ('Simba', 5), ('St. Stephen', 2), ('Plantain', 3), ('Lord of the Flies', 2), ('wine', 2), ('soap', 2), ('Mao', 2), ('Dr. Jekyll', 3), ('the Yellow Pages', 2), ('Michael Milken', 3), ('a lobster', 2), ('butterfly', 2), ('the Duke of Windsor (Edward VIII)', 2), ('Terabithia', 2), ('Canterbury', 3), ('George Foreman', 2), ('Goya', 2), ('George Washington', 2), ('Plantagenet', 2), ('The Paper Chase', 4), ('King Henry VIII', 2), ('H.J. Heinz', 3), ('Gone with the Wind', 3), ('the Whopper', 3), ('Sir Walter Scott', 2), ('Saint George', 2), ('Siam', 3), ('Charles Darwin', 2), ('James', 3), ('oil', 3), ('Canute', 2), ('Sir Lancelot', 2), ('Sousa', 2), ('torts', 2), ('lemon', 2), ('sand', 3), ('Martin Luther King, Jr.', 3), ('Arm & Hammer', 2), ('Bethlehem', 2), ('Versailles', 2), ('mint', 2), ('Victoria', 3), ('the Visigoths', 3), ('The Jungle', 7), ('poison ivy', 2), ('Ptolemy', 2), ('Roy Rogers', 2), ('aluminum', 2), ('knights', 3), ('Rudyard Kipling', 2), ('Shrek 2', 2), ('the Heimlich maneuver', 2), ('Plymouth', 2), ('Ulysses S. Grant', 4), ('Scarface', 2), ('waltz', 2), ('Brie', 2), ('The Sun Also Rises', 2), ('a fungus', 2), ('Tutankhamen', 3), ('Sir Walter Raleigh', 3), ('hand over fist', 2), ('Austria', 4), ('Elton John', 6), ('Brussels', 2), ('Iraq', 4), ('(James) Buchanan', 2), ('John', 4), ('Humpty Dumpty', 4), ('Acts (of the Apostles)', 2), ('the Magna Carta', 2), ('a flea', 2), ('Birmingham, Alabama', 2), ('The Rockies', 2), ('1215', 2), ('Midnight Cowboy', 2), ('Switzerland', 3), ('\"I Am The Walrus\"', 2), ('7', 3), ('\"Baby Face\" Nelson', 3), ('H. Rider Haggard', 3), ('gold', 3), ('skin', 2), ('Bourbon', 2), ('Fannie Farmer', 3), ('James Cameron', 2), (\"Catherine de' Medici\", 2), ('Moses', 3), ('Daniel', 5), ('Carl Sandburg', 2), ('cigars', 2), ('Philip', 7), ('\"Burning Down the House\"', 2), ('Little Eva', 2), ('Jezebel', 4), ('Checkers', 2), ('Swaziland', 6), ('a camel', 2), ('(Greg) Norman', 2), ('Saturday Night Live', 2), ('garlic', 2), ('a lion', 2), ('Hugh Capet', 3), ('the Philistines', 2), ('FDR', 2), ('Wyoming', 2), ('Vienna', 3), ('Bill Cosby', 2), ('roasting', 2), ('Pittsburgh', 2), ('Sean Penn', 2), ('Ibsen', 2), (\"Campbell's\", 2), ('James Brown', 3), ('order', 3), ('Jim Morrison', 2), ('Geraldine Ferraro', 2), ('Woody Allen', 2), ('The Lion King', 2), ('Francisco Franco', 2), ('Belshazzar', 2), ('\"Hamlet\"', 2), ('Razor blades', 2), ('Ecclesiastes', 2), ('The Fog', 2), ('Haile Selassie', 2), ('Joan Rivers', 2), ('John the Baptist', 2), ('William & Mary', 2), ('Oklahoma', 2), ('a jack', 2), ('red & white', 2), ('the Persian Empire', 3), ('Richard the Lionheart', 2), ('Steven Spielberg', 2), ('Golf', 2), ('Newfoundland', 5), ('Sally Ride', 2), ('Plantains', 2), ('David Bowie', 2), ('density', 2), ('Gustav', 2), ('Diogenes', 2), ('The Dixie Chicks', 2), ('Airedale', 2), ('(William) Wrigley', 2), ('Albany', 2), ('James II', 2), ('The Prince and the Pauper', 2), ('Croissant', 2), ('Leo', 2), ('Cadbury', 2), ('a rattlesnake', 2), ('the Roman Empire', 2), ('Al Jolson', 2), ('Paul Gauguin', 2), ('W.C. Fields', 2), ('Janet Reno', 2), ('Pepin the Short', 3), ('Lyndon B. Johnson', 2), ('Jamaica', 6), ('Picasso', 2), ('Czechoslovakia', 2), ('Yugoslavia', 4), ('Robert Johnson', 2), ('the Netherlands', 2), ('Trojan War', 2), ('Marie Antoinette', 2), ('\"Beowulf\"', 2), ('Florida', 3), ('Andy Warhol', 2), ('Sisyphus', 2), ('the Rothschilds', 2), ('Mr. Ed', 2), ('Jane Goodall', 3), ('Prince William', 2), ('James Earl Ray', 3), ('Bahrain', 2), ('bronze', 2), ('Bathsheba', 5), ('Nostradamus', 3), ('Tyrannosaurus Rex', 3), ('Marcel Marceau', 2), ('the Empire State Building', 2), ('Macabre', 2), ('Patrick Henry', 2), ('The Wizard of Oz', 3), ('Virginia', 2), ('Queen Elizabeth II', 2), ('Cassandra', 2), ('Acts of the Apostles', 2), ('Truman Capote', 2), ('Gregory Peck', 2), ('(Henry) Bessemer', 2), ('1984', 2), ('39', 2), ('Christopher Columbus', 2), ('Saturday Night Fever', 2), ('Greek', 2), ('Rex', 2), ('Edgar Allan Poe (\"Annabel Lee\")', 2), ('Boo Radley', 3), ('Corning', 2), ('Bluetooth', 2), ('Napoleon Bonaparte', 2), ('Buddha', 2), ('Brazil', 3), ('Steel', 2), ('Arthur', 3), ('Al Pacino', 2), ('Joan Didion', 2), ('Victor Hugo', 2), ('King Edward VIII', 2), ('Madrid', 4), ('Jacqueline Kennedy Onassis', 2), ('Budapest', 2), ('Lewis and Clark', 2), ('John Houseman', 2), ('Abdullah', 2), ('Stevie Wonder', 2), ('Kiki Dee', 3), ('Sir Henry Bessemer', 2), ('the Politburo', 2), ('cinnamon', 2), ('Odysseus', 4), ('\"The Green Mile\"', 2), ('The Washington Post', 2), ('Leif Ericson', 2), ('Crash', 2), ('Johann Sebastian Bach', 2), ('William', 2), ('William of Orange', 2), ('The Blues Brothers', 2), ('Steve Martin', 2), ('the Metrodome', 2), ('Visigoths', 2), ('Wilhelmina', 2), ('(Joseph) Heller', 2), ('Amahl and the Night Visitors', 2), ('the pancreas', 2), ('the Rockettes', 2), ('a submarine', 2), ('Kate Jackson', 2), ('The Little Mermaid', 2), ('Colorado River', 2), ('Queen Noor', 2), ('eyes', 2), ('O. Henry', 3), ('Polonius', 3), ('Lesotho', 2), ('King Midas', 2), ('Daniel Ellsberg', 2), ('Andrew Jackson', 2), ('Nassau', 2), ('13', 2), ('Lou Diamond Phillips', 2), ('ears', 2), ('Buddhism', 2), ('Cobalt', 2), ('Vasco da Gama', 2), ('Maine', 2), ('Detroit', 2), ('Muhammad Ali', 2), ('Hunter S. Thompson', 2), ('Great Britain', 2), ('\"Don\\'t Be Cruel\"', 2), ('the sun', 2), ('\"Macbeth\"', 2), ('Quebec City', 2)]\n"
     ]
    }
   ],
   "source": [
    "def unique_answer(data, lst):\n",
    "    filtered = lookup(data, lst)\n",
    "    #Creating two lists from our data after we filtered by key word(answer list and unique answers list)\n",
    "    answer_lst = filtered.answer.tolist()\n",
    "    unique_lst = filtered.answer.unique()\n",
    "    dup = []\n",
    "    counts = []\n",
    "    # Iterating through two lists and creating zip list that contains name of a duplicate and number of times it appears\n",
    "    for i in unique_lst:\n",
    "        for v in answer_lst:\n",
    "            if i == v and answer_lst.count(i) > 1 and i not in dup:\n",
    "                dup.append(i)\n",
    "        if answer_lst.count(i) > 1:\n",
    "            counts.append(answer_lst.count(i))\n",
    "    answer_count = list(zip(dup, counts))           \n",
    "    \n",
    "    # Selecting the most frequent answer from the list\n",
    "    max_v = max(counts)\n",
    "    for i in answer_count:\n",
    "        if i[-1] == max_v:\n",
    "            most_freq = i[0]\n",
    "    print(\"Most common answer is \" + str(most_freq)) \n",
    "    print(\"It appeared \" + str(max_v) + \" times\")\n",
    "    return answer_count\n",
    "\n",
    "# Testing the function\n",
    "king_filtered = unique_answer(df,[\"King\"])\n",
    "print(king_filtered)"
   ]
  },
  {
   "cell_type": "markdown",
   "metadata": {},
   "source": [
    "6. Explore from here! This is an incredibly rich dataset, and there are so many interesting things to discover. There are a few columns that we haven't even started looking at yet. Here are some ideas on ways to continue working with this data:\n",
    "\n",
    " * Investigate the ways in which questions change over time by filtering by the date. How many questions from the 90s use the word `\"Computer\"` compared to questions from the 2000s?\n",
    " * Is there a connection between the round and the category? Are you more likely to find certain categories, like `\"Literature\"` in Single Jeopardy or Double Jeopardy?"
   ]
  },
  {
   "cell_type": "code",
   "execution_count": 8,
   "metadata": {},
   "outputs": [
    {
     "name": "stdout",
     "output_type": "stream",
     "text": [
      "98 number of times word \"Computer\" was in the questions from year 1990 to 2000\n",
      "268 number of times word \"Computer\" was in the questions from year 2000 to 2010\n",
      "['Double Jeopardy!' 'Final Jeopardy!' 'Jeopardy!']\n",
      "Word \"Literature\" appears in round \"Double Jeopardy! 1054 times\n",
      "Word \"Literature\" appears in round \"Final Jeopardy! 82 times\n",
      "Word \"Literature\" appears in round \"Jeopardy! 423 times\n"
     ]
    }
   ],
   "source": [
    "# Creating a new column where air date will be converted to timestamp\n",
    "df['air_date_timestamp'] = pd.to_datetime(df['air_date'], format= '%Y-%m-%d')                                                     \n",
    "# Selecting dataframe that aired in the 90s\n",
    "df_90s = df[(df['air_date_timestamp'] > '1990-01-01') & (df['air_date_timestamp'] < '2000-01-01')]\n",
    "# Selecting dataframe that aired in the 2000s\n",
    "df_00s = df[(df['air_date_timestamp'] > '2000-01-01') & (df['air_date_timestamp'] < '2010-01-01')]\n",
    "# Applying filtering function to 90s dataframe and key word \"Computer\"\n",
    "filtered90s = lookup(df_90s, [\"Computer\"])\n",
    "print(str(len(filtered90s[\"question\"])) + \" number of times word \\\"Computer\\\" was in the questions from year 1990 to 2000\")\n",
    "# Applying filtering function to 2000s dataframe and key word \"Computer\"\n",
    "filtered00s = lookup(df_00s, [\"Computer\"])\n",
    "print(str(len(filtered00s[\"question\"])) + \" number of times word \\\"Computer\\\" was in the questions from year 2000 to 2010\")\n",
    "\n",
    "\n",
    "def lite(data, lst):\n",
    "# Lowercases all words in the list of words as well as the categories. Returns true if all of the words in the list appear in the category.\n",
    "    search = lambda x: all(word.lower() in x.lower() for word in lst)\n",
    "    # Applies the lambda function to the Category column and returns the rows where the function returned True\n",
    "    return data.loc[data[\"category\"].apply(search)]\n",
    "  \n",
    "#Testing the function\n",
    "filtered5 = lite(df, [\"Literature\"])\n",
    "# Finding unique round names\n",
    "print(filtered5[\"round_name\"].unique())\n",
    "# Calculating number of times word appears in each of round\n",
    "counter = 0\n",
    "for i in filtered5[\"round_name\"]:\n",
    "    if i == \"Double Jeopardy!\":\n",
    "        counter +=1\n",
    "print(\"Word \\\"Literature\\\" appears in round \\\"Double Jeopardy! \" + str(counter) +\" times\")\n",
    "\n",
    "counter = 0\n",
    "for i in filtered5[\"round_name\"]:\n",
    "    if i == \"Final Jeopardy!\":\n",
    "        counter +=1\n",
    "print(\"Word \\\"Literature\\\" appears in round \\\"Final Jeopardy! \" + str(counter) +\" times\")\n",
    "\n",
    "counter = 0\n",
    "for i in filtered5[\"round_name\"]:\n",
    "    if i == \"Jeopardy!\":\n",
    "        counter +=1\n",
    "print(\"Word \\\"Literature\\\" appears in round \\\"Jeopardy! \" + str(counter) +\" times\")"
   ]
  }
 ],
 "metadata": {
  "kernelspec": {
   "display_name": "Python 3 (ipykernel)",
   "language": "python",
   "name": "python3"
  },
  "language_info": {
   "codemirror_mode": {
    "name": "ipython",
    "version": 3
   },
   "file_extension": ".py",
   "mimetype": "text/x-python",
   "name": "python",
   "nbconvert_exporter": "python",
   "pygments_lexer": "ipython3",
   "version": "3.9.7"
  }
 },
 "nbformat": 4,
 "nbformat_minor": 2
}
